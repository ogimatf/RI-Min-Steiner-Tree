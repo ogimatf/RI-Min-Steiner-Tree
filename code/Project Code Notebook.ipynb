{
 "cells": [
  {
   "cell_type": "markdown",
   "metadata": {},
   "source": [
    "Na stranici http://steinlib.zib.de/steinlib.php nalazi se biblioteka podataka vezana za Štajnerove grafove.  Test podaci na ovoj stranice sadrže informacije o pojedinačnim Štajnerovim grafovima. Oni su  čuvani u .stp formatu koji se koristi samo za čuvanje podataka o Štajnerovim grafovima. Postoji python modul za parsiranje ovog formata koji je opisan na https://github.com/leandron/steinlib."
   ]
  },
  {
   "cell_type": "code",
   "execution_count": 1,
   "metadata": {},
   "outputs": [
    {
     "name": "stdout",
     "output_type": "stream",
     "text": [
      "Requirement already satisfied: steinlib in c:\\users\\ogi\\appdata\\local\\programs\\python\\python38\\lib\\site-packages (0.1)\n"
     ]
    }
   ],
   "source": [
    "!pip install steinlib"
   ]
  },
  {
   "cell_type": "code",
   "execution_count": 2,
   "metadata": {},
   "outputs": [],
   "source": [
    "from steinlib.instance import SteinlibInstance\n",
    "from steinlib.parser import SteinlibParser\n",
    "from steinlib.section import SectionParser\n",
    "\n",
    "import sys\n",
    "\n",
    "class MySteinLibGraph(SteinlibInstance):\n",
    "\n",
    "    def comment(self, raw_args, list_args):\n",
    "        print(\"Comment section found\")\n",
    "\n",
    "    def comment__end(self, raw_args, list_args):\n",
    "        print(\"Comment section end\")\n",
    "\n",
    "    def coordinates(self, raw_args, list_args):\n",
    "        print(\"Coordinates section found\")\n",
    "\n",
    "    def eof(self, raw_args, list_args):\n",
    "        print(\"End of file found\")\n",
    "\n",
    "    def graph(self, raw_args, list_args):\n",
    "        print(\"Graph section found\")\n",
    "        print(raw_args, list_args)\n",
    "\n",
    "    def header(self, raw_args, list_args):\n",
    "        print(\"Header found\")\n",
    "\n",
    "    def terminals(self, raw_args, list_args):\n",
    "        print(\"Terminals section found\")\n",
    "        "
   ]
  },
  {
   "cell_type": "markdown",
   "metadata": {},
   "source": [
    "Nisam se snašao da koristim steinlib python modul. Pa u nastavku pišem kod koji će služiti da se učita graf iz datoteka formata .stp."
   ]
  },
  {
   "cell_type": "code",
   "execution_count": 3,
   "metadata": {},
   "outputs": [],
   "source": [
    "def loadGraphFromFile(file_name):\n",
    "\n",
    "        n_nodes = 0\n",
    "        n_edges = 0\n",
    "        n_terminals = 0\n",
    "\n",
    "        edges = []\n",
    "        terminals = []\n",
    "\n",
    "        with open(file_name, 'r') as file:\n",
    "\n",
    "            for line in file:\n",
    "                word_list = line.split()\n",
    "\n",
    "                if(len(word_list) == 0):\n",
    "                    continue\n",
    "\n",
    "                if(word_list[0] == 'Nodes'):\n",
    "                    n_nodes = int(word_list[1])\n",
    "\n",
    "                if(word_list[0] == 'Edges'):\n",
    "                    n_edges = int(word_list[1])\n",
    "\n",
    "                if(word_list[0] == 'Terminals'):\n",
    "                    n_terminals = int(word_list[1])\n",
    "\n",
    "                if(word_list[0] == 'E'):\n",
    "                    edges.append([int(word_list[1]) - 1, int(word_list[2]) - 1, int(word_list[3])])\n",
    "\n",
    "                if(word_list[0] == 'T'):\n",
    "                    terminals.append(int(word_list[1]) - 1)\n",
    "                    \n",
    "        return [n_nodes, n_edges, n_terminals, edges, terminals]"
   ]
  },
  {
   "cell_type": "markdown",
   "metadata": {},
   "source": [
    "Napravljena je klasa za čuvanje informacija o učitanim grafovima."
   ]
  },
  {
   "cell_type": "code",
   "execution_count": 4,
   "metadata": {},
   "outputs": [],
   "source": [
    "class SteinerTree:\n",
    "    \n",
    "    def __init__(self, file_name, opt):\n",
    "        \n",
    "        initList = loadGraphFromFile(file_name)\n",
    "        \n",
    "        self.name = file_name[-7:-4]\n",
    "        self.opt = opt\n",
    "        self.numNodes = initList[0]\n",
    "        self.numEdges = initList[1]\n",
    "        self.numTerms = initList[2]\n",
    "        self.edges = initList[3]\n",
    "        self.terminals = initList[4]"
   ]
  },
  {
   "cell_type": "markdown",
   "metadata": {},
   "source": [
    "Provera da li radi učitavanje grafova."
   ]
  },
  {
   "cell_type": "code",
   "execution_count": 5,
   "metadata": {},
   "outputs": [
    {
     "name": "stdout",
     "output_type": "stream",
     "text": [
      "b01\n",
      "82\n",
      "50\n",
      "63\n",
      "9\n",
      "[[1, 7, 8], [1, 20, 7], [1, 31, 2], [3, 4, 8], [6, 28, 7], [10, 2, 7], [13, 30, 9], [16, 5, 7], [16, 41, 6], [17, 18, 2], [17, 27, 1], [17, 42, 1], [18, 1, 5], [19, 6, 3], [19, 13, 7], [19, 15, 8], [19, 26, 2], [19, 37, 8], [19, 39, 10], [19, 47, 2], [20, 11, 7], [20, 16, 5], [20, 17, 10], [21, 9, 6], [21, 19, 2], [21, 20, 2], [21, 39, 8], [21, 42, 7], [24, 33, 4], [26, 33, 4], [27, 4, 8], [27, 23, 5], [28, 8, 5], [28, 32, 7], [29, 4, 4], [29, 14, 1], [29, 15, 2], [32, 34, 3], [33, 19, 10], [33, 29, 2], [35, 1, 8], [35, 3, 6], [35, 10, 9], [35, 38, 7], [35, 48, 9], [35, 49, 10], [39, 14, 10], [39, 22, 3], [40, 0, 5], [40, 21, 8], [40, 24, 5], [40, 35, 2], [40, 43, 7], [40, 46, 7], [41, 5, 9], [41, 45, 10], [43, 23, 8], [43, 38, 3], [44, 25, 6], [44, 27, 1], [46, 36, 3], [46, 44, 10], [49, 12, 1]]\n",
      "[47, 48, 21, 34, 26, 11, 36, 33, 23]\n"
     ]
    }
   ],
   "source": [
    "st = SteinerTree('b01.stp', 82)\n",
    "print(st.name)\n",
    "print(st.opt)\n",
    "print(st.numNodes)\n",
    "print(st.numEdges)\n",
    "print(st.numTerms)\n",
    "print(st.edges)\n",
    "print(st.terminals)"
   ]
  },
  {
   "cell_type": "markdown",
   "metadata": {},
   "source": [
    "Učitavanje informacija o grafovima iz skupa podataka B."
   ]
  },
  {
   "cell_type": "code",
   "execution_count": 6,
   "metadata": {},
   "outputs": [],
   "source": [
    "bGraphList = [\n",
    "    ('b01.stp', 82),\n",
    "    ('b02.stp', 83),\n",
    "    ('b03.stp', 138),\n",
    "    ('b04.stp', 59),\n",
    "    ('b05.stp', 61),\n",
    "    ('b06.stp', 122),\n",
    "    ('b07.stp', 111),\n",
    "    ('b08.stp', 104),\n",
    "    ('b09.stp', 220),\n",
    "    ('b10.stp', 86),\n",
    "    ('b11.stp', 88),\n",
    "    ('b12.stp', 174),\n",
    "    ('b13.stp', 165),\n",
    "    ('b14.stp', 235),\n",
    "    ('b15.stp', 318),\n",
    "    ('b16.stp', 127),\n",
    "    ('b17.stp', 131),\n",
    "    ('b18.stp', 218)\n",
    "]"
   ]
  },
  {
   "cell_type": "code",
   "execution_count": 7,
   "metadata": {},
   "outputs": [
    {
     "name": "stdout",
     "output_type": "stream",
     "text": [
      "G:\\RI\\Projekat\\RI-Min-Steiner-Tree\\code\\..\\data\\B\n",
      "['b01.stp', 'b02.stp', 'b03.stp', 'b04.stp', 'b05.stp', 'b06.stp', 'b07.stp', 'b08.stp', 'b09.stp', 'b10.stp', 'b11.stp', 'b12.stp', 'b13.stp', 'b14.stp', 'b15.stp', 'b16.stp', 'b17.stp', 'b18.stp']\n",
      "18\n",
      "b10\n"
     ]
    }
   ],
   "source": [
    "import os\n",
    "\n",
    "bDataPath = os.path.abspath(os.getcwd()) + '\\\\..\\\\data\\\\B'\n",
    "\n",
    "print(bDataPath)\n",
    "filenames = os.listdir(bDataPath)\n",
    "print(filenames)\n",
    "\n",
    "bGraphs = []\n",
    "\n",
    "for st_args in bGraphList:\n",
    "    graphpath = bDataPath + '\\\\' + st_args[0]\n",
    "    graphopt = st_args[1]\n",
    "    bGraphs.append(SteinerTree(graphpath, graphopt))\n",
    "    \n",
    "print(len(bGraphs))\n",
    "print(bGraphs[9].name)"
   ]
  },
  {
   "cell_type": "code",
   "execution_count": 97,
   "metadata": {},
   "outputs": [],
   "source": [
    "from scipy.sparse import csr_matrix\n",
    "from scipy.sparse.csgraph import minimum_spanning_tree\n",
    "from scipy.sparse.csgraph import connected_components"
   ]
  },
  {
   "cell_type": "code",
   "execution_count": 142,
   "metadata": {},
   "outputs": [],
   "source": [
    "import numpy as np\n",
    "\n",
    "#nasumicno generise populaciju cija jedinka predstavlja skup izabranih cvorova koji ulaze Steinerovo drvo\n",
    "#konacno resenje je minimalno razapinjuce stablo koje sadrzi sve ove cvorove\n",
    "def generatePopulation(population_size, solution_len):\n",
    "    \n",
    "    pop = []\n",
    "    \n",
    "    for i in range(population_size):\n",
    "        \n",
    "        sol = []\n",
    "        \n",
    "        for j in range(solution_len):\n",
    "            \n",
    "            sol.append(round(np.random.rand()))\n",
    "            \n",
    "        pop.append(sol)\n",
    "            \n",
    "    return np.array(pop)\n",
    "\n",
    "#evaluira se svaki clan populacije, racunanjem vrednosti minimalnog razapinjuceg stabla\n",
    "def evaluatePopulation(pop, population_size, solution_len, terminal_list, adj_matrix):\n",
    "    \n",
    "    total_value = np.sum(adj_matrix) / 2\n",
    "    \n",
    "    N = len(adj_matrix)\n",
    "    \n",
    "    population_eval_array = []\n",
    "    \n",
    "    #izdvajaju se svi izabrani cvorovi (terminali + cvorovi iz jedinke populacije)\n",
    "    for p in range(population_size):\n",
    "        \n",
    "        s = 0\n",
    "        \n",
    "        selected_nodes = np.copy(terminal_list)\n",
    "        \n",
    "        for t in range(len(terminal_list)):\n",
    "            \n",
    "            if(selected_nodes[t] == 1):\n",
    "                t = t+1\n",
    "            else:\n",
    "                selected_nodes[t] = pop[p][s]\n",
    "                s = s+1\n",
    "        \n",
    "        #pravi se nova matrica susedstva za izabrane cvorove\n",
    "        M = sum(selected_nodes)\n",
    "        \n",
    "        new_adj_matrix = np.zeros((int(M), int(M)))\n",
    "        \n",
    "        m = 0\n",
    "        \n",
    "        for i in range(N):\n",
    "            \n",
    "            if(selected_nodes[i] == 1):\n",
    "                \n",
    "                n = 0\n",
    "                \n",
    "                for j in range(N):\n",
    "                    \n",
    "                    if(selected_nodes[j] == 1):\n",
    "                        \n",
    "                        new_adj_matrix[m][n] = adj_matrix[i][j]\n",
    "                        \n",
    "                        n = n+1\n",
    "                m = m+1\n",
    "        \n",
    "        \n",
    "        X = csr_matrix(new_adj_matrix.tolist())\n",
    "        \n",
    "        #provera da li je dobijen graf povezan\n",
    "        #mora biti povezan da bi se racunao za Stainerovo drvo\n",
    "        n_components, labels = connected_components(csgraph=X, directed=False, return_labels=True)\n",
    "        \n",
    "        if(n_components != 1):\n",
    "            population_eval_array.append(total_value)\n",
    "        else:\n",
    "            #vraca gornje-trougaonu matricu povezanosti minimalnog razapinjuceg stabla\n",
    "            Tcsr = minimum_spanning_tree(X)\n",
    "            population_eval_array.append(sum(sum(Tcsr.toarray().astype(int))))\n",
    "\n",
    "    return population_eval_array\n",
    "        \n",
    "def cross_over(pop, population_size, solution_len):\n",
    "    \n",
    "    new_pop = []\n",
    "    \n",
    "    for i in range(population_size):\n",
    "        \n",
    "        match = np.random.randint(population_size)\n",
    "        cpoint = np.random.randint(solution_len)\n",
    "        \n",
    "        child1 = []\n",
    "        child2 = []\n",
    "        \n",
    "        for j in range(solution_len):\n",
    "            \n",
    "            if j <= cpoint:\n",
    "                child1.append(pop[i][j])\n",
    "                child2.append(pop[match][j])\n",
    "            else:\n",
    "                child1.append(pop[match][j])\n",
    "                child2.append(pop[i][j])\n",
    "                \n",
    "        new_pop.append(child1)\n",
    "        new_pop.append(child2)\n",
    "        \n",
    "    pop = np.array(pop)    \n",
    "    new_pop = np.array(new_pop)\n",
    "    \n",
    "    return new_pop\n",
    "\n",
    "def mutation(pop, population_size, solution_len, mutation_chance):\n",
    "    \n",
    "    for i in range(population_size):\n",
    "        \n",
    "        if np.random.rand() < mutation_chance:\n",
    "            \n",
    "            for j in range(solution_len):\n",
    "\n",
    "                mpoint = np.random.randint(solution_len)\n",
    "\n",
    "                pop[i][mpoint] = 1 - pop[i][mpoint]\n",
    "\n",
    "    return pop\n",
    "\n",
    "def selection(pop, population_size, solution_len, pop_eval):\n",
    "    \n",
    "    new_pop = []\n",
    "    fitness = pop_eval\n",
    "    fitness = fitness / sum(fitness)\n",
    "    finess = fitness + 1 - fitness\n",
    "    fitness = np.cumsum(fitness)\n",
    "    \n",
    "    for i in range(population_size):\n",
    "        for j in range(population_size*2):\n",
    "            p = np.random.rand()\n",
    "            \n",
    "            if(p <= fitness[j]):\n",
    "                new_pop.append(pop[j])\n",
    "                break\n",
    "                \n",
    "    new_pop = np.array(new_pop)\n",
    "    \n",
    "    return new_pop\n",
    "            \n",
    "    \n",
    "def geneticAlgorithm(st: SteinerTree):\n",
    "    \n",
    "    #verovatnoca da ce mutirati jedna jedinka populacije\n",
    "    mutation_chance = 0.2\n",
    "    \n",
    "    N = st.numNodes\n",
    "    edge_number = st.numEdges\n",
    "    term_number = st.numTerms\n",
    "    optimal = st.opt\n",
    "    edges = st.edges\n",
    "    terminals = st.terminals\n",
    "    \n",
    "    terminal_list = np.zeros(N)\n",
    "    \n",
    "    for t in terminals:\n",
    "        terminal_list[t] = 1\n",
    "    \n",
    "    #zaustavlja se iteriranje ako dobijemo optimalno resenje\n",
    "    success = 0\n",
    "    \n",
    "    adj_matrix = np.zeros((N, N))\n",
    "    \n",
    "    for e in edges:\n",
    "        adj_matrix[e[0]][e[1]] = e[2]\n",
    "        adj_matrix[e[1]][e[0]] = e[2]\n",
    "    \n",
    "    total_value = np.sum(adj_matrix) / 2\n",
    "    \n",
    "    population_size = 10\n",
    "    solution_len = N - term_number\n",
    "    \n",
    "    #generisanje generacije populacije\n",
    "    pop = generatePopulation(population_size, solution_len)\n",
    "    \n",
    "    pop[0] = np.ones(solution_len)\n",
    "    \n",
    "    #prvobitna evaluacija populacije\n",
    "    pop_eval = evaluatePopulation(pop, population_size, solution_len, terminal_list, adj_matrix)\n",
    "    \n",
    "    #inicijalno najbolje resenje\n",
    "    best_value = min(pop_eval)\n",
    "    best_index = pop_eval.index(best_value)\n",
    "    best_solution = pop[best_index]\n",
    "    \n",
    "    func_eval_GA = 0\n",
    "    fit_GA = []\n",
    "    \n",
    "    while success == 0:\n",
    "        \n",
    "        new_pop = cross_over(pop, population_size, solution_len)\n",
    "        \n",
    "        pop = mutation(new_pop, population_size * 2, solution_len, mutation_chance)\n",
    "        \n",
    "        pop_eval = evaluatePopulation(pop, population_size * 2, solution_len, terminal_list, adj_matrix)\n",
    "        \n",
    "        min_value = min(pop_eval)\n",
    "        min_index = pop_eval.index(min_value)\n",
    "        min_solution = pop[min_index]\n",
    "        \n",
    "        if best_value > min_value:\n",
    "            best_value = min_value\n",
    "            best_index = min_index\n",
    "            best_solution = pop[best_index]\n",
    "            \n",
    "        pop = selection(pop, population_size, solution_len, pop_eval)\n",
    "        \n",
    "        pop_eval = evaluatePopulation(pop, population_size, solution_len, terminal_list, adj_matrix)\n",
    "        \n",
    "        #posle selekcije vraca se dosadasnje najbolje resenje u populaciju\n",
    "        worst_value = max(pop_eval)\n",
    "        worst_index = pop_eval.index(worst_value)\n",
    "        pop[worst_index] = best_solution\n",
    "        \n",
    "        func_eval_GA = func_eval_GA + 1\n",
    "        \n",
    "        if best_value > total_value:\n",
    "            fit_GA.append(totalL)\n",
    "        else:\n",
    "            fit_GA.append(best_value)\n",
    "            \n",
    "        if best_value == optimal:\n",
    "            success = 1\n",
    "            \n",
    "        if func_eval_GA >= 10000:\n",
    "            break\n",
    "            \n",
    "    return (func_eval_GA, fit_GA, best_solution)"
   ]
  },
  {
   "cell_type": "code",
   "execution_count": 137,
   "metadata": {
    "scrolled": true
   },
   "outputs": [],
   "source": [
    "func_eval_GA, fit_GA, best_solution = geneticAlgorithm(bGraphs[0])"
   ]
  },
  {
   "cell_type": "code",
   "execution_count": 138,
   "metadata": {},
   "outputs": [
    {
     "data": {
      "text/plain": [
       "[82]"
      ]
     },
     "execution_count": 138,
     "metadata": {},
     "output_type": "execute_result"
    }
   ],
   "source": [
    "pop = [best_solution]\n",
    "\n",
    "pop = np.array(pop)\n",
    "\n",
    "N = bGraphs[0].numNodes\n",
    "\n",
    "terminal_list = np.zeros(N)\n",
    "    \n",
    "for t in bGraphs[0].terminals:\n",
    "    terminal_list[t] = 1\n",
    "        \n",
    "adj_matrix = np.zeros((N, N))\n",
    "    \n",
    "for e in bGraphs[0].edges:\n",
    "    adj_matrix[e[0]][e[1]] = e[2]\n",
    "    adj_matrix[e[1]][e[0]] = e[2]\n",
    "\n",
    "evaluatePopulation(pop, 1, 41, terminal_list, adj_matrix)"
   ]
  },
  {
   "cell_type": "code",
   "execution_count": 139,
   "metadata": {},
   "outputs": [
    {
     "data": {
      "text/plain": [
       "1249"
      ]
     },
     "execution_count": 139,
     "metadata": {},
     "output_type": "execute_result"
    }
   ],
   "source": [
    "func_eval_GA"
   ]
  },
  {
   "cell_type": "code",
   "execution_count": 140,
   "metadata": {},
   "outputs": [],
   "source": [
    "import matplotlib.pyplot as plt"
   ]
  },
  {
   "cell_type": "code",
   "execution_count": 141,
   "metadata": {},
   "outputs": [
    {
     "data": {
      "image/png": "[encoded data removed]",
      "text/plain": [
       "<Figure size 432x288 with 1 Axes>"
      ]
     },
     "metadata": {
      "needs_background": "dark"
     },
     "output_type": "display_data"
    }
   ],
   "source": [
    "x = np.arange(0, func_eval_GA, 1)\n",
    "y = fit_GA\n",
    "\n",
    "fig, ax = plt.subplots()\n",
    "ax.plot(x, y)\n",
    "\n",
    "ax.set(xlabel='GA iterations', ylabel='Steiner Tree value',\n",
    "       title='Genetic algorithm application to b01 dataset')\n",
    "ax.grid()\n",
    "\n",
    "ax.spines['bottom'].set_color('white')\n",
    "ax.spines['top'].set_color('white') \n",
    "ax.spines['right'].set_color('white')\n",
    "ax.spines['left'].set_color('white')\n",
    "ax.tick_params(axis='x', colors='white')\n",
    "ax.tick_params(axis='y', colors='white')\n",
    "ax.yaxis.label.set_color('white')\n",
    "ax.xaxis.label.set_color('white')\n",
    "ax.title.set_color('white')\n",
    "\n",
    "plt.show()"
   ]
  },
  {
   "cell_type": "code",
   "execution_count": null,
   "metadata": {},
   "outputs": [],
   "source": []
  }
 ],
 "metadata": {
  "kernelspec": {
   "display_name": "Python 3.8.2 64-bit",
   "language": "python",
   "name": "python38264bit8229826f72ad4ad2b80c43618b15043f"
  },
  "language_info": {
   "codemirror_mode": {
    "name": "ipython",
    "version": 3
   },
   "file_extension": ".py",
   "mimetype": "text/x-python",
   "name": "python",
   "nbconvert_exporter": "python",
   "pygments_lexer": "ipython3",
   "version": "3.8.2"
  }
 },
 "nbformat": 4,
 "nbformat_minor": 4
}
