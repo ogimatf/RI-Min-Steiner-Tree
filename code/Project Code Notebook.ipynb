{
 "cells": [
  {
   "cell_type": "markdown",
   "metadata": {},
   "source": [
    "Na stranici http://steinlib.zib.de/steinlib.php nalazi se biblioteka podataka vezana za Štajnerove grafove.  Test podaci na ovoj stranice sadrže informacije o pojedinačnim Štajnerovim grafovima. Oni su  čuvani u .stp formatu koji se koristi samo za čuvanje podataka o Štajnerovim grafovima. Postoji python modul za parsiranje ovog formata koji je opisan na https://github.com/leandron/steinlib."
   ]
  },
  {
   "cell_type": "code",
   "execution_count": 1,
   "metadata": {},
   "outputs": [
    {
     "name": "stdout",
     "output_type": "stream",
     "text": [
      "Requirement already satisfied: steinlib in c:\\users\\ogi\\appdata\\local\\programs\\python\\python38\\lib\\site-packages (0.1)\n"
     ]
    }
   ],
   "source": [
    "!pip install steinlib"
   ]
  },
  {
   "cell_type": "code",
   "execution_count": 2,
   "metadata": {},
   "outputs": [],
   "source": [
    "from steinlib.instance import SteinlibInstance\n",
    "from steinlib.parser import SteinlibParser\n",
    "from steinlib.section import SectionParser\n",
    "\n",
    "import sys\n",
    "\n",
    "class MySteinLibGraph(SteinlibInstance):\n",
    "\n",
    "    def comment(self, raw_args, list_args):\n",
    "        print(\"Comment section found\")\n",
    "\n",
    "    def comment__end(self, raw_args, list_args):\n",
    "        print(\"Comment section end\")\n",
    "\n",
    "    def coordinates(self, raw_args, list_args):\n",
    "        print(\"Coordinates section found\")\n",
    "\n",
    "    def eof(self, raw_args, list_args):\n",
    "        print(\"End of file found\")\n",
    "\n",
    "    def graph(self, raw_args, list_args):\n",
    "        print(\"Graph section found\")\n",
    "        print(raw_args, list_args)\n",
    "\n",
    "    def header(self, raw_args, list_args):\n",
    "        print(\"Header found\")\n",
    "\n",
    "    def terminals(self, raw_args, list_args):\n",
    "        print(\"Terminals section found\")\n",
    "        "
   ]
  },
  {
   "cell_type": "markdown",
   "metadata": {},
   "source": [
    "Nisam se snašao da koristim steinlib python modul. Pa u nastavku pišem kod koji će služiti da se učita graf iz datoteka formata .stp."
   ]
  },
  {
   "cell_type": "code",
   "execution_count": 3,
   "metadata": {},
   "outputs": [],
   "source": [
    "def loadGraphFromFile(file_name):\n",
    "\n",
    "        n_nodes = 0\n",
    "        n_edges = 0\n",
    "        n_terminals = 0\n",
    "\n",
    "        edges = []\n",
    "        terminals = []\n",
    "\n",
    "        with open(file_name, 'r') as file:\n",
    "\n",
    "            for line in file:\n",
    "                word_list = line.split()\n",
    "\n",
    "                if(len(word_list) == 0):\n",
    "                    continue\n",
    "\n",
    "                if(word_list[0] == 'Nodes'):\n",
    "                    n_nodes = int(word_list[1])\n",
    "\n",
    "                if(word_list[0] == 'Edges'):\n",
    "                    n_edges = int(word_list[1])\n",
    "\n",
    "                if(word_list[0] == 'Terminals'):\n",
    "                    n_terminals = int(word_list[1])\n",
    "\n",
    "                if(word_list[0] == 'E'):\n",
    "                    edges.append([int(word_list[1]), int(word_list[2]), int(word_list[3])])\n",
    "\n",
    "                if(word_list[0] == 'T'):\n",
    "                    terminals.append(int(word_list[1]))\n",
    "                    \n",
    "        return [n_nodes, n_edges, n_terminals, edges, terminals]"
   ]
  },
  {
   "cell_type": "markdown",
   "metadata": {},
   "source": [
    "Napravljena je klasa za čuvanje informacija o učitanim grafovima."
   ]
  },
  {
   "cell_type": "code",
   "execution_count": 4,
   "metadata": {},
   "outputs": [],
   "source": [
    "class SteinerTree:\n",
    "    \n",
    "    def __init__(self, file_name, opt):\n",
    "        \n",
    "        initList = loadGraphFromFile(file_name)\n",
    "        \n",
    "        self.name = file_name[-7:-4]\n",
    "        self.opt = opt\n",
    "        self.numNodes = initList[0]\n",
    "        self.numEdges = initList[1]\n",
    "        self.numTerms = initList[2]\n",
    "        self.edges = initList[3]\n",
    "        self.terminals = initList[4]"
   ]
  },
  {
   "cell_type": "markdown",
   "metadata": {},
   "source": [
    "Provera da li radi učitavanje grafova."
   ]
  },
  {
   "cell_type": "code",
   "execution_count": 5,
   "metadata": {},
   "outputs": [
    {
     "name": "stdout",
     "output_type": "stream",
     "text": [
      "b01\n",
      "82\n",
      "50\n",
      "63\n",
      "9\n",
      "[[2, 8, 8], [2, 21, 7], [2, 32, 2], [4, 5, 8], [7, 29, 7], [11, 3, 7], [14, 31, 9], [17, 6, 7], [17, 42, 6], [18, 19, 2], [18, 28, 1], [18, 43, 1], [19, 2, 5], [20, 7, 3], [20, 14, 7], [20, 16, 8], [20, 27, 2], [20, 38, 8], [20, 40, 10], [20, 48, 2], [21, 12, 7], [21, 17, 5], [21, 18, 10], [22, 10, 6], [22, 20, 2], [22, 21, 2], [22, 40, 8], [22, 43, 7], [25, 34, 4], [27, 34, 4], [28, 5, 8], [28, 24, 5], [29, 9, 5], [29, 33, 7], [30, 5, 4], [30, 15, 1], [30, 16, 2], [33, 35, 3], [34, 20, 10], [34, 30, 2], [36, 2, 8], [36, 4, 6], [36, 11, 9], [36, 39, 7], [36, 49, 9], [36, 50, 10], [40, 15, 10], [40, 23, 3], [41, 1, 5], [41, 22, 8], [41, 25, 5], [41, 36, 2], [41, 44, 7], [41, 47, 7], [42, 6, 9], [42, 46, 10], [44, 24, 8], [44, 39, 3], [45, 26, 6], [45, 28, 1], [47, 37, 3], [47, 45, 10], [50, 13, 1]]\n",
      "[48, 49, 22, 35, 27, 12, 37, 34, 24]\n"
     ]
    }
   ],
   "source": [
    "st = SteinerTree('b01.stp', 82)\n",
    "print(st.name)\n",
    "print(st.opt)\n",
    "print(st.numNodes)\n",
    "print(st.numEdges)\n",
    "print(st.numTerms)\n",
    "print(st.edges)\n",
    "print(st.terminals)"
   ]
  },
  {
   "cell_type": "markdown",
   "metadata": {},
   "source": [
    "Učitavanje informacija o grafovima iz skupa podataka B."
   ]
  },
  {
   "cell_type": "code",
   "execution_count": 6,
   "metadata": {},
   "outputs": [],
   "source": [
    "bGraphList = [\n",
    "    ('b01.stp', 82),\n",
    "    ('b02.stp', 83),\n",
    "    ('b03.stp', 138),\n",
    "    ('b04.stp', 59),\n",
    "    ('b05.stp', 61),\n",
    "    ('b06.stp', 122),\n",
    "    ('b07.stp', 111),\n",
    "    ('b08.stp', 104),\n",
    "    ('b09.stp', 220),\n",
    "    ('b10.stp', 86),\n",
    "    ('b11.stp', 88),\n",
    "    ('b12.stp', 174),\n",
    "    ('b13.stp', 165),\n",
    "    ('b14.stp', 235),\n",
    "    ('b15.stp', 318),\n",
    "    ('b16.stp', 127),\n",
    "    ('b17.stp', 131),\n",
    "    ('b18.stp', 218)\n",
    "]"
   ]
  },
  {
   "cell_type": "code",
   "execution_count": 7,
   "metadata": {},
   "outputs": [
    {
     "name": "stdout",
     "output_type": "stream",
     "text": [
      "G:\\RI\\Projekat\\RI-Min-Steiner-Tree\\code\\..\\data\\B\n",
      "['b01.stp', 'b02.stp', 'b03.stp', 'b04.stp', 'b05.stp', 'b06.stp', 'b07.stp', 'b08.stp', 'b09.stp', 'b10.stp', 'b11.stp', 'b12.stp', 'b13.stp', 'b14.stp', 'b15.stp', 'b16.stp', 'b17.stp', 'b18.stp']\n",
      "18\n",
      "b10\n"
     ]
    }
   ],
   "source": [
    "import os\n",
    "\n",
    "bDataPath = os.path.abspath(os.getcwd()) + '\\\\..\\\\data\\\\B'\n",
    "\n",
    "print(bDataPath)\n",
    "filenames = os.listdir(bDataPath)\n",
    "print(filenames)\n",
    "\n",
    "bGraphs = []\n",
    "\n",
    "for st_args in bGraphList:\n",
    "    graphpath = bDataPath + '\\\\' + st_args[0]\n",
    "    graphopt = st_args[1]\n",
    "    bGraphs.append(SteinerTree(graphpath, graphopt))\n",
    "    \n",
    "print(len(bGraphs))\n",
    "print(bGraphs[9].name)"
   ]
  },
  {
   "cell_type": "code",
   "execution_count": 128,
   "metadata": {},
   "outputs": [],
   "source": [
    "from scipy.sparse import csr_matrix\n",
    "from scipy.sparse.csgraph import minimum_spanning_tree"
   ]
  },
  {
   "cell_type": "code",
   "execution_count": 142,
   "metadata": {},
   "outputs": [],
   "source": [
    "import numpy as np\n",
    "\n",
    "#nasumicno generise populaciju cija jedinka predstavlja skup izabranih cvorova koji ulaze Steinerovo drvo\n",
    "#konacno resenje je minimalno razapinjuce stablo koje sadrzi sve ove cvorove\n",
    "def generatePopulation(population_size, solution_len):\n",
    "    \n",
    "    pop = []\n",
    "    \n",
    "    for i in range(population_size):\n",
    "        \n",
    "        sol = []\n",
    "        \n",
    "        for j in range(solution_len):\n",
    "            \n",
    "            sol.append(round(np.random.rand()))\n",
    "            \n",
    "        pop.append(sol)\n",
    "            \n",
    "    return np.array(pop)\n",
    "\n",
    "#evaluira se svaki clan populacije, racunanjem vrednosti minimalnog razapinjuceg stabla\n",
    "def evaluatePopulation(pop, population_size, solution_len, terminal_list, adj_matrix):\n",
    "    \n",
    "    N = len(adj_matrix)\n",
    "    \n",
    "    selected_nodes = terminal_list\n",
    "    \n",
    "    population_eval_array = []\n",
    "    \n",
    "    #izdvajaju se svi izabrani cvorovi (terminali + cvorovi iz jedinke populacije)\n",
    "    for p in range(population_size):\n",
    "        \n",
    "        i = 0\n",
    "        \n",
    "        for t in range(len(terminal_list)):\n",
    "            \n",
    "            if(terminal_list[t] == 0):\n",
    "                \n",
    "                i = i+1\n",
    "                \n",
    "                if(pop[p][i-1] == 1):\n",
    "                    \n",
    "                    selected_nodes[t] = 1\n",
    "        \n",
    "        #pravi se nova matrica susedstva za izabrane cvorove\n",
    "        M = sum(selected_nodes)\n",
    "        \n",
    "        new_adj_matrix = np.zeros((int(M), int(M)))\n",
    "        \n",
    "        m = 0\n",
    "        \n",
    "        for i in range(N):\n",
    "            \n",
    "            if(selected_nodes[i] == 1):\n",
    "                \n",
    "                n = 0\n",
    "                \n",
    "                for j in range(N):\n",
    "                    \n",
    "                    if(selected_nodes[j] == 1):\n",
    "                        \n",
    "                        new_adj_matrix[m][n] = adj_matrix[i][j]\n",
    "                        \n",
    "                        n = n+1\n",
    "                m = m+1\n",
    "        \n",
    "        \n",
    "        X = csr_matrix(new_adj_matrix.tolist())\n",
    "        #vraca gornje-trougaonu matricu povezanosti minimalnog razapinjuceg stabla\n",
    "        Tcsr = minimum_spanning_tree(X)\n",
    "        population_eval_array.append(sum(sum(Tcsr.toarray().astype(int))))\n",
    "        \n",
    "    return population_eval_array\n",
    "        \n",
    "\n",
    "def geneticAlgorithm(st: SteinerTree):\n",
    "    \n",
    "    N = st.numNodes\n",
    "    edge_number = st.numEdges\n",
    "    term_number = st.numTerms\n",
    "    optimal = st.opt\n",
    "    edges = st.edges\n",
    "    terminals = st.terminals\n",
    "    \n",
    "    terminal_list = np.zeros(N)\n",
    "    \n",
    "    for t in terminals:\n",
    "        terminal_list[t] = 1\n",
    "    \n",
    "    #success flag\n",
    "    success = 0\n",
    "    solution = optimal + 1\n",
    "    \n",
    "    adj_matrix = np.zeros((N, N))\n",
    "    \n",
    "    for e in edges:\n",
    "        adj_matrix[e[0]-1][e[1]-1] = e[2]\n",
    "        adj_matrix[e[1]-1][e[0]-1] = e[2]\n",
    "    \n",
    "    total_value = np.sum(adj_matrix) / 2\n",
    "    \n",
    "    \n",
    "    population_size = 10\n",
    "    solution_len = N - term_number\n",
    "    \n",
    "    pop = generatePopulation(population_size, solution_len)\n",
    "    \n",
    "    pop_eval = evaluatePopulation(pop, population_size, solution_len, terminal_list, adj_matrix)\n",
    "    \n",
    "    print(pop_eval)"
   ]
  },
  {
   "cell_type": "code",
   "execution_count": 143,
   "metadata": {},
   "outputs": [
    {
     "name": "stdout",
     "output_type": "stream",
     "text": [
      "[94, 196, 241, 230, 228, 228, 228, 228, 238, 238]\n"
     ]
    }
   ],
   "source": [
    "geneticAlgorithm(bGraphs[0])"
   ]
  },
  {
   "cell_type": "code",
   "execution_count": null,
   "metadata": {},
   "outputs": [],
   "source": []
  }
 ],
 "metadata": {
  "kernelspec": {
   "display_name": "Python 3.8.2 64-bit",
   "language": "python",
   "name": "python38264bit8229826f72ad4ad2b80c43618b15043f"
  },
  "language_info": {
   "codemirror_mode": {
    "name": "ipython",
    "version": 3
   },
   "file_extension": ".py",
   "mimetype": "text/x-python",
   "name": "python",
   "nbconvert_exporter": "python",
   "pygments_lexer": "ipython3",
   "version": "3.8.2"
  }
 },
 "nbformat": 4,
 "nbformat_minor": 4
}
