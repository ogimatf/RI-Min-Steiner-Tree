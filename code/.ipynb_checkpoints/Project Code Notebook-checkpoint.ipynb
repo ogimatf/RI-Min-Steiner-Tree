{
 "cells": [
  {
   "cell_type": "markdown",
   "metadata": {},
   "source": [
    "Na stranici http://steinlib.zib.de/steinlib.php nalazi se biblioteka podataka vezana za Štajnerove grafove.  Test podaci na ovoj stranice sadrže informacije o pojedinačnim Štajnerovim grafovima. Oni su  čuvani u .stp formatu koji se koristi samo za čuvanje podataka o Štajnerovim grafovima. Postoji python modul za parsiranje ovog formata koji je opisan na https://github.com/leandron/steinlib."
   ]
  },
  {
   "cell_type": "code",
   "execution_count": 2,
   "metadata": {},
   "outputs": [
    {
     "name": "stdout",
     "output_type": "stream",
     "text": [
      "Collecting steinlib\n",
      "  Downloading steinlib-0.1.tar.gz (7.4 kB)\n",
      "Building wheels for collected packages: steinlib\n",
      "  Building wheel for steinlib (setup.py): started\n",
      "  Building wheel for steinlib (setup.py): finished with status 'done'\n",
      "  Created wheel for steinlib: filename=steinlib-0.1-py3-none-any.whl size=5545 sha256=aedf8263a77fa9b14b020e487164660793037cca7232d0b75ff7015e48544edd\n",
      "  Stored in directory: c:\\users\\ogi\\appdata\\local\\pip\\cache\\wheels\\f9\\33\\64\\cccd4ee2acfda1c9a67262e0291a416b85cca94ce1214f1664\n",
      "Successfully built steinlib\n",
      "Installing collected packages: steinlib\n",
      "Successfully installed steinlib-0.1\n"
     ]
    }
   ],
   "source": [
    "!pip install steinlib"
   ]
  },
  {
   "cell_type": "code",
   "execution_count": 30,
   "metadata": {},
   "outputs": [],
   "source": [
    "from steinlib.instance import SteinlibInstance\n",
    "from steinlib.parser import SteinlibParser\n",
    "from steinlib.section import SectionParser\n",
    "\n",
    "import sys\n",
    "\n",
    "class MySteinLibGraph(SteinlibInstance):\n",
    "\n",
    "    def comment(self, raw_args, list_args):\n",
    "        print(\"Comment section found\")\n",
    "\n",
    "    def comment__end(self, raw_args, list_args):\n",
    "        print(\"Comment section end\")\n",
    "\n",
    "    def coordinates(self, raw_args, list_args):\n",
    "        print(\"Coordinates section found\")\n",
    "\n",
    "    def eof(self, raw_args, list_args):\n",
    "        print(\"End of file found\")\n",
    "\n",
    "    def graph(self, raw_args, list_args):\n",
    "        print(\"Graph section found\")\n",
    "        print(raw_args, list_args)\n",
    "\n",
    "    def header(self, raw_args, list_args):\n",
    "        print(\"Header found\")\n",
    "\n",
    "    def terminals(self, raw_args, list_args):\n",
    "        print(\"Terminals section found\")\n",
    "        "
   ]
  },
  {
   "cell_type": "markdown",
   "metadata": {},
   "source": [
    "Nisam se snašao da koristim steinlib python modul. Pa u nastavku pišem kod koji će služiti da se učita graf iz datoteka formata .stp."
   ]
  },
  {
   "cell_type": "code",
   "execution_count": 35,
   "metadata": {},
   "outputs": [],
   "source": [
    "def loadGraphFromFile(file_name):\n",
    "\n",
    "        n_nodes = 0\n",
    "        n_edges = 0\n",
    "        n_terminals = 0\n",
    "\n",
    "        edges = []\n",
    "        terminals = []\n",
    "\n",
    "        with open(file_name, 'r') as file:\n",
    "\n",
    "            for line in file:\n",
    "                word_list = line.split()\n",
    "\n",
    "                if(len(word_list) == 0):\n",
    "                    continue\n",
    "\n",
    "                if(word_list[0] == 'Nodes'):\n",
    "                    n_nodes = int(word_list[1])\n",
    "\n",
    "                if(word_list[0] == 'Edges'):\n",
    "                    n_edges = int(word_list[1])\n",
    "\n",
    "                if(word_list[0] == 'Terminals'):\n",
    "                    n_terminals = int(word_list[1])\n",
    "\n",
    "                if(word_list[0] == 'E'):\n",
    "                    edges.append([int(word_list[1]), int(word_list[2]), int(word_list[3])])\n",
    "\n",
    "                if(word_list[0] == 'T'):\n",
    "                    terminals.append(int(word_list[1]))\n",
    "                    \n",
    "        return [n_nodes, n_edges, n_terminals, edges, terminals]"
   ]
  },
  {
   "cell_type": "code",
   "execution_count": 39,
   "metadata": {},
   "outputs": [],
   "source": [
    "class SteinerTree:\n",
    "    \n",
    "    def __init__(self, file_name):\n",
    "        \n",
    "        initList = loadGraphFromFile(file_name)\n",
    "        \n",
    "        self.name = file_name[:-4]\n",
    "        self.numNodes = initList[0]\n",
    "        self.numEdges = initList[1]\n",
    "        self.numTerms = initList[2]\n",
    "        self.edges = initList[3]\n",
    "        self.terminals = initList[4]"
   ]
  },
  {
   "cell_type": "code",
   "execution_count": 42,
   "metadata": {},
   "outputs": [
    {
     "name": "stdout",
     "output_type": "stream",
     "text": [
      "b01\n",
      "50\n",
      "63\n",
      "9\n",
      "[[2, 8, 8], [2, 21, 7], [2, 32, 2], [4, 5, 8], [7, 29, 7], [11, 3, 7], [14, 31, 9], [17, 6, 7], [17, 42, 6], [18, 19, 2], [18, 28, 1], [18, 43, 1], [19, 2, 5], [20, 7, 3], [20, 14, 7], [20, 16, 8], [20, 27, 2], [20, 38, 8], [20, 40, 10], [20, 48, 2], [21, 12, 7], [21, 17, 5], [21, 18, 10], [22, 10, 6], [22, 20, 2], [22, 21, 2], [22, 40, 8], [22, 43, 7], [25, 34, 4], [27, 34, 4], [28, 5, 8], [28, 24, 5], [29, 9, 5], [29, 33, 7], [30, 5, 4], [30, 15, 1], [30, 16, 2], [33, 35, 3], [34, 20, 10], [34, 30, 2], [36, 2, 8], [36, 4, 6], [36, 11, 9], [36, 39, 7], [36, 49, 9], [36, 50, 10], [40, 15, 10], [40, 23, 3], [41, 1, 5], [41, 22, 8], [41, 25, 5], [41, 36, 2], [41, 44, 7], [41, 47, 7], [42, 6, 9], [42, 46, 10], [44, 24, 8], [44, 39, 3], [45, 26, 6], [45, 28, 1], [47, 37, 3], [47, 45, 10], [50, 13, 1]]\n",
      "[48, 49, 22, 35, 27, 12, 37, 34, 24]\n"
     ]
    }
   ],
   "source": [
    "st = SteinerTree('b01.stp')\n",
    "print(st.name)\n",
    "print(st.numNodes)\n",
    "print(st.numEdges)\n",
    "print(st.numTerms)\n",
    "print(st.edges)\n",
    "print(st.terminals)"
   ]
  },
  {
   "cell_type": "code",
   "execution_count": null,
   "metadata": {},
   "outputs": [],
   "source": []
  }
 ],
 "metadata": {
  "kernelspec": {
   "display_name": "Python 3.8.2 64-bit",
   "language": "python",
   "name": "python38264bit8229826f72ad4ad2b80c43618b15043f"
  },
  "language_info": {
   "codemirror_mode": {
    "name": "ipython",
    "version": 3
   },
   "file_extension": ".py",
   "mimetype": "text/x-python",
   "name": "python",
   "nbconvert_exporter": "python",
   "pygments_lexer": "ipython3",
   "version": "3.8.2"
  }
 },
 "nbformat": 4,
 "nbformat_minor": 4
}
