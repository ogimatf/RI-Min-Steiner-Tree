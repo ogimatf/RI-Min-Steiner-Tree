{
 "cells": [
  {
   "cell_type": "markdown",
   "metadata": {},
   "source": [
    "Na stranici http://steinlib.zib.de/steinlib.php nalazi se biblioteka podataka vezana za Štajnerove grafove.  Test podaci na ovoj stranice sadrže informacije o pojedinačnim Štajnerovim grafovima. Oni su  čuvani u .stp formatu koji se koristi samo za čuvanje podataka o Štajnerovim grafovima. Postoji python modul za parsiranje ovog formata koji je opisan na https://github.com/leandron/steinlib."
   ]
  },
  {
   "cell_type": "code",
   "execution_count": 2,
   "metadata": {},
   "outputs": [
    {
     "name": "stdout",
     "output_type": "stream",
     "text": [
      "Collecting steinlib\n",
      "  Downloading steinlib-0.1.tar.gz (7.4 kB)\n",
      "Building wheels for collected packages: steinlib\n",
      "  Building wheel for steinlib (setup.py): started\n",
      "  Building wheel for steinlib (setup.py): finished with status 'done'\n",
      "  Created wheel for steinlib: filename=steinlib-0.1-py3-none-any.whl size=5545 sha256=aedf8263a77fa9b14b020e487164660793037cca7232d0b75ff7015e48544edd\n",
      "  Stored in directory: c:\\users\\ogi\\appdata\\local\\pip\\cache\\wheels\\f9\\33\\64\\cccd4ee2acfda1c9a67262e0291a416b85cca94ce1214f1664\n",
      "Successfully built steinlib\n",
      "Installing collected packages: steinlib\n",
      "Successfully installed steinlib-0.1\n"
     ]
    }
   ],
   "source": [
    "!pip install steinlib"
   ]
  },
  {
   "cell_type": "code",
   "execution_count": 30,
   "metadata": {},
   "outputs": [],
   "source": [
    "from steinlib.instance import SteinlibInstance\n",
    "from steinlib.parser import SteinlibParser\n",
    "from steinlib.section import SectionParser\n",
    "\n",
    "import sys\n",
    "\n",
    "class MySteinLibGraph(SteinlibInstance):\n",
    "\n",
    "    def comment(self, raw_args, list_args):\n",
    "        print(\"Comment section found\")\n",
    "\n",
    "    def comment__end(self, raw_args, list_args):\n",
    "        print(\"Comment section end\")\n",
    "\n",
    "    def coordinates(self, raw_args, list_args):\n",
    "        print(\"Coordinates section found\")\n",
    "\n",
    "    def eof(self, raw_args, list_args):\n",
    "        print(\"End of file found\")\n",
    "\n",
    "    def graph(self, raw_args, list_args):\n",
    "        print(\"Graph section found\")\n",
    "        print(raw_args, list_args)\n",
    "\n",
    "    def header(self, raw_args, list_args):\n",
    "        print(\"Header found\")\n",
    "\n",
    "    def terminals(self, raw_args, list_args):\n",
    "        print(\"Terminals section found\")\n",
    "        "
   ]
  },
  {
   "cell_type": "markdown",
   "metadata": {},
   "source": [
    "Nisam se snašao da koristim steinlib python modul. Pa u nastavku pišem kod koji će služiti da se učita graf iz datoteka formata .stp."
   ]
  },
  {
   "cell_type": "code",
   "execution_count": 39,
   "metadata": {},
   "outputs": [],
   "source": [
    "def load_steiner_graph_from_file(file_name):\n",
    "    \n",
    "    n_nodes = 0\n",
    "    n_edges = 0\n",
    "    n_terminals = 0\n",
    "    \n",
    "    edges = {}\n",
    "    terminals = {}\n",
    "\n",
    "    with open(file_name, 'r') as file:\n",
    "\n",
    "        #iter_word = (list(word_list) for word_list in \n",
    "                   #    (line.split() for line in file))\n",
    "        #print(list(iter_word))\n",
    "        \n",
    "        for line in file:\n",
    "            word_list = line.split()\n",
    "            \n",
    "            if(word_list[0] == 'Nodes'):\n",
    "                n_nodes = int(word_list[1])\n",
    "                \n",
    "            if(word_list[0] == 'Edges'):\n",
    "                n_edges = int(word_list[1])\n",
    "                \n",
    "            if(word_list[0] == 'Terminals'):\n",
    "                n_terminals = int(word_list[1])\n",
    "                \n",
    "            if(word_list[0] == 'E'):\n",
    "                edges.append(list(int(word_list[1], int(word_list[2], int(word_list[3]))\n",
    "            \n",
    "            print(word_list)"
   ]
  },
  {
   "cell_type": "code",
   "execution_count": 40,
   "metadata": {},
   "outputs": [
    {
     "name": "stdout",
     "output_type": "stream",
     "text": [
      "['33D32945', 'STP', 'File,', 'STP', 'Format', 'Version', '1.0']\n",
      "[]\n",
      "['SECTION', 'Comment']\n",
      "['Name', '\"B01\"']\n",
      "['Creator', '\"J.', 'E.', 'Beasley\"']\n",
      "['Remark', '\"Sparse', 'graph', 'with', 'random', 'weights\"']\n",
      "['END']\n",
      "[]\n",
      "['SECTION', 'Graph']\n",
      "['Nodes', '50']\n",
      "['Edges', '63']\n",
      "['E', '2', '8', '8']\n",
      "['E', '2', '21', '7']\n",
      "['E', '2', '32', '2']\n",
      "['E', '4', '5', '8']\n",
      "['E', '7', '29', '7']\n",
      "['E', '11', '3', '7']\n",
      "['E', '14', '31', '9']\n",
      "['E', '17', '6', '7']\n",
      "['E', '17', '42', '6']\n",
      "['E', '18', '19', '2']\n",
      "['E', '18', '28', '1']\n",
      "['E', '18', '43', '1']\n",
      "['E', '19', '2', '5']\n",
      "['E', '20', '7', '3']\n",
      "['E', '20', '14', '7']\n",
      "['E', '20', '16', '8']\n",
      "['E', '20', '27', '2']\n",
      "['E', '20', '38', '8']\n",
      "['E', '20', '40', '10']\n",
      "['E', '20', '48', '2']\n",
      "['E', '21', '12', '7']\n",
      "['E', '21', '17', '5']\n",
      "['E', '21', '18', '10']\n",
      "['E', '22', '10', '6']\n",
      "['E', '22', '20', '2']\n",
      "['E', '22', '21', '2']\n",
      "['E', '22', '40', '8']\n",
      "['E', '22', '43', '7']\n",
      "['E', '25', '34', '4']\n",
      "['E', '27', '34', '4']\n",
      "['E', '28', '5', '8']\n",
      "['E', '28', '24', '5']\n",
      "['E', '29', '9', '5']\n",
      "['E', '29', '33', '7']\n",
      "['E', '30', '5', '4']\n",
      "['E', '30', '15', '1']\n",
      "['E', '30', '16', '2']\n",
      "['E', '33', '35', '3']\n",
      "['E', '34', '20', '10']\n",
      "['E', '34', '30', '2']\n",
      "['E', '36', '2', '8']\n",
      "['E', '36', '4', '6']\n",
      "['E', '36', '11', '9']\n",
      "['E', '36', '39', '7']\n",
      "['E', '36', '49', '9']\n",
      "['E', '36', '50', '10']\n",
      "['E', '40', '15', '10']\n",
      "['E', '40', '23', '3']\n",
      "['E', '41', '1', '5']\n",
      "['E', '41', '22', '8']\n",
      "['E', '41', '25', '5']\n",
      "['E', '41', '36', '2']\n",
      "['E', '41', '44', '7']\n",
      "['E', '41', '47', '7']\n",
      "['E', '42', '6', '9']\n",
      "['E', '42', '46', '10']\n",
      "['E', '44', '24', '8']\n",
      "['E', '44', '39', '3']\n",
      "['E', '45', '26', '6']\n",
      "['E', '45', '28', '1']\n",
      "['E', '47', '37', '3']\n",
      "['E', '47', '45', '10']\n",
      "['E', '50', '13', '1']\n",
      "['END']\n",
      "[]\n",
      "['SECTION', 'Terminals']\n",
      "['Terminals', '9']\n",
      "['T', '48']\n",
      "['T', '49']\n",
      "['T', '22']\n",
      "['T', '35']\n",
      "['T', '27']\n",
      "['T', '12']\n",
      "['T', '37']\n",
      "['T', '34']\n",
      "['T', '24']\n",
      "['END']\n",
      "[]\n",
      "['EOF']\n"
     ]
    }
   ],
   "source": [
    "load_steiner_graph_from_file('b01.stp')"
   ]
  },
  {
   "cell_type": "code",
   "execution_count": null,
   "metadata": {},
   "outputs": [],
   "source": []
  }
 ],
 "metadata": {
  "kernelspec": {
   "display_name": "Python 3.8.2 64-bit",
   "language": "python",
   "name": "python38264bit8229826f72ad4ad2b80c43618b15043f"
  },
  "language_info": {
   "codemirror_mode": {
    "name": "ipython",
    "version": 3
   },
   "file_extension": ".py",
   "mimetype": "text/x-python",
   "name": "python",
   "nbconvert_exporter": "python",
   "pygments_lexer": "ipython3",
   "version": "3.8.2"
  }
 },
 "nbformat": 4,
 "nbformat_minor": 4
}
